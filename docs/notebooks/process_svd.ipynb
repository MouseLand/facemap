{
 "cells": [
  {
   "attachments": {},
   "cell_type": "markdown",
   "metadata": {},
   "source": [
    "# Facemap"
   ]
  },
  {
   "attachments": {},
   "cell_type": "markdown",
   "metadata": {},
   "source": [
    "Function call `process.run()` saves a `.npy` file that contains the following variables:\n",
    "- filenames: list of lists of video filenames - each list are the videos taken simultaneously\n",
    "- Ly, Lx: list of number of pixels in Y (Ly) and X (Lx) for each video taken simultaneously\n",
    "- sbin: spatial bin size for motion SVDs\n",
    "- Lybin, Lxbin: list of number of pixels binned by sbin in Y (Ly) and X (Lx) for each video taken simultaneously\n",
    "- sybin, sxbin: coordinates of multivideo (for plotting/reshaping ONLY)\n",
    "- LYbin, LXbin: full-size of all videos embedded in rectangle (binned)\n",
    "- fullSVD: (bool) whether or not \"multivideo SVD\" is computed\n",
    "- save_mat: (bool) whether or not to save proc as *.mat file\n",
    "- avgframe: list of average frames for each video from a subset of frames (binned by sbin)\n",
    "- avgframe_reshape: average frame reshaped to be y-pixels x x-pixels\n",
    "- avgmotion: list of average motions for each video from a subset of frames (binned by sbin)\n",
    "- avgmotion_reshape: average motion reshaped to be y-pixels x x-pixels\n",
    "- motion: list of absolute motion energies across time - first is \"multivideo\" motion energy (empty if not computed)\n",
    "- motSVD: list of motion SVDs - first is \"multivideo SVD\" (empty if not computed) - each is nframes x components\n",
    "- motMask: list of motion masks for each motion SVD - each motMask is pixels x components\n",
    "- motMask_reshape: motion masks reshaped to be y-pixels x x-pixels x components\n",
    "- pupil: list of pupil ROI outputs - each is a dict with 'area', 'area_smooth', and 'com' (center-of-mass)\n",
    "- blink: list of blink ROI outputs - each is nframes, the blink area on each frame\n",
    "- running: list of running ROI outputs - each is nframes x 2, for X and Y motion on each frame\n",
    "- rois: ROIs that were drawn and computed\n",
    "    - rind: type of ROI in number\n",
    "    - rtype: what type of ROI ('motion SVD', 'pupil', 'blink', 'running')\n",
    "    - ivid: in which video is the ROI\n",
    "    - color: color of ROI\n",
    "    - yrange: y indices of ROI\n",
    "    - xrange: x indices of ROI\n",
    "saturation: saturation of ROI (0-255)\n",
    "pupil_sigma: number of stddevs used to compute pupil radius (for pupil ROIs)\n",
    "yrange_bin: binned indices in y (if motion SVD)\n",
    "xrange_bin: binned indices in x (if motion SVD)"
   ]
  },
  {
   "attachments": {},
   "cell_type": "markdown",
   "metadata": {},
   "source": [
    "The above variables are related to motion energy, which uses the absolute value of differences in frames over time i.e. abs(np.diff(frame$_{t+1}$ - frame$_{t}$)). To perform SVD computation for each frame over time use the flag `movSVD=True` [default=False] in the `process.run()` function call. Variables pertaining to movie SVDs include:\n",
    "- movSVD: list of movie SVDs - first is \"multivideo SVD\" (empty if not computed) - each is nframes x components\n",
    "- movMask: list of movie masks for each movie SVD - each movMask is pixels x components\n",
    "- movMask_reshape: movie masks reshaped to be y-pixels x x-pixels x components\n",
    "<br> New variables:\n",
    "- motSv: array containign singular values for motSVD\n",
    "- movSv: array containign singular values for movSVD"
   ]
  },
  {
   "attachments": {},
   "cell_type": "markdown",
   "metadata": {},
   "source": [
    "`process.run()` function call takes the following parameters:\n",
    "- filenames: A 2D list of names of video(s) to get\n",
    "- motSVD: default=True\n",
    "- movSVD: default=False\n",
    "- GUIobject=None\n",
    "- parent: default=None, parent is from GUI\n",
    "- proc: default=None, proc can be a saved ROI file from GUI \n",
    "- savepath: default=None => set to video folder, specify a folder path in which to save _proc.npy "
   ]
  },
  {
   "attachments": {},
   "cell_type": "markdown",
   "metadata": {},
   "source": [
    "### Import packages"
   ]
  },
  {
   "cell_type": "code",
   "execution_count": 5,
   "metadata": {},
   "outputs": [],
   "source": [
    "from facemap import process\n",
    "from glob import glob"
   ]
  },
  {
   "attachments": {},
   "cell_type": "markdown",
   "metadata": {},
   "source": [
    "### Set variables"
   ]
  },
  {
   "attachments": {},
   "cell_type": "markdown",
   "metadata": {},
   "source": [
    "Example file list:\n",
    "    - cam1_G7c1_1.avi\n",
    "    - cam1_G7c1_2.avi\n",
    "    - cam2_G7c1_1.avi\n",
    "    - cam2_G7c1_2.avi\n",
    "    - cam3_G7c1_1.avi\n",
    "    - cam3_G7c1_2.avi"
   ]
  },
  {
   "cell_type": "code",
   "execution_count": 4,
   "metadata": {},
   "outputs": [],
   "source": [
    "simultaneous_video_list = [\n",
    "    [\n",
    "        \".../cam1_G7c1_1.avi\",\n",
    "        \".../cam2_G7c1_1.avi\",\n",
    "        \".../cam3_G7c1_1.avi\",\n",
    "        \".../cam4_G7c1_1.avi\",\n",
    "    ]\n",
    "]\n",
    "sequential_video_list = [\n",
    "    [\".../cam1_G7c1_1.avi\", \".../cam1_G7c1_2.avi\"],\n",
    "    [\".../cam2_G7c1_1.avi\", \".../cam2_G7c1_2.avi\"],\n",
    "    [\".../cam3_G7c1_1.avi\", \".../cam3_G7c1_2.avi\"],\n",
    "    [\".../cam4_G7c1_1.avi\", \".../cam4_G7c1_2.avi\"],\n",
    "]"
   ]
  },
  {
   "attachments": {},
   "cell_type": "markdown",
   "metadata": {},
   "source": [
    "## Process videos recorded simultaneously from different cam/views"
   ]
  },
  {
   "cell_type": "code",
   "execution_count": null,
   "metadata": {},
   "outputs": [],
   "source": [
    "savename = process.run(simultaneous_video_list)\n",
    "print(\"Output saved in\", savename)"
   ]
  },
  {
   "attachments": {},
   "cell_type": "markdown",
   "metadata": {},
   "source": [
    "## Process videos recorded sequentially"
   ]
  },
  {
   "cell_type": "code",
   "execution_count": null,
   "metadata": {},
   "outputs": [],
   "source": [
    "savename = process.run(sequential_video_list)\n",
    "print(\"Output saved in\", savename)"
   ]
  },
  {
   "attachments": {},
   "cell_type": "markdown",
   "metadata": {},
   "source": [
    "## Process videos from multiple sessions"
   ]
  },
  {
   "cell_type": "code",
   "execution_count": null,
   "metadata": {},
   "outputs": [],
   "source": [
    "session_folders = [‘location1’, ‘location2’, …, ’locationN’]\n",
    "for indexSession, folder in enumerate(session_folders):\n",
    "    video_files = glob(folder+\"/*.ext\") # replace .ext with one of ['*.mj2','*.mp4','*.mkv','*.avi','*.mpeg','*.mpg','*.asf']\n",
    "    process.run(video_files)\n",
    "    # if SVDs of ROIs is required, use 'save ROIs' from GUI and use the following command\n",
    "    process.run(video_files, proc=\"/path_to_saved_rois\")"
   ]
  }
 ],
 "metadata": {
  "kernelspec": {
   "display_name": "Python 3",
   "language": "python",
   "name": "python3"
  },
  "language_info": {
   "codemirror_mode": {
    "name": "ipython",
    "version": 3
   },
   "file_extension": ".py",
   "mimetype": "text/x-python",
   "name": "python",
   "nbconvert_exporter": "python",
   "pygments_lexer": "ipython3",
   "version": "3.8.13"
  }
 },
 "nbformat": 4,
 "nbformat_minor": 4
}
